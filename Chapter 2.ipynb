{
 "cells": [
  {
   "cell_type": "markdown",
   "metadata": {},
   "source": [
    "## Reiforment Learning Book \n",
    "\n",
    "http://www.incompleteideas.net/book/bookdraft2017nov5.pdf"
   ]
  },
  {
   "cell_type": "markdown",
   "metadata": {},
   "source": [
    "## A k-armed Bandit Problem\n",
    "Consider the following learning problem. You are faced repeatedly with a choice among k different options, or actions. After each choice you receive a numerical reward chosen from a stationary probability\n",
    "distribution that depends on the action you selected. d. Your objective is to maximize the expected total\n",
    "reward over some time period, for example, over 1000 action selections, or time steps.\n",
    "\n",
    "\n",
    "This is the original form of the k-armed bandit problem, so named by analogy to a slot machine, or\n",
    "“one-armed bandit,” except that it has k levers instead of one. Each action selection is like a play of one\n",
    "of the slot machine’s levers, and the rewards are the payoffs for hitting the jackpot. Through repeated\n",
    "action selections you are to maximize your winnings by concentrating your actions on the best levers.\n",
    "Another analogy is that of a doctor choosing between experimental treatments for a series of seriously\n",
    "ill patients. Each action is the selection of a treatment, and each reward is the survival or well-being of the patient. Today the term “bandit problem” is sometimes used for a generalization of the problem\n",
    "described above, but in this book we use it to refer just to this simple case.\n",
    "        "
   ]
  },
  {
   "cell_type": "code",
   "execution_count": 2,
   "metadata": {},
   "outputs": [],
   "source": [
    "import numpy as np\n",
    "import matplotlib.pyplot as plt\n",
    "\n",
    "class bandit():\n",
    "    def __init__(self):\n",
    "        self.mu = np.random.uniform(-3,3,1)\n",
    "        self.sigma = np.random.uniform(0,1,1)\n",
    "        \n",
    "    def pull(self):\n",
    "        return np.random.normal(self.mu,self.sigma,1)"
   ]
  },
  {
   "cell_type": "code",
   "execution_count": 5,
   "metadata": {},
   "outputs": [
    {
     "name": "stdout",
     "output_type": "stream",
     "text": [
      "[1.02205066]\n"
     ]
    }
   ],
   "source": [
    "k = 10\n",
    "k_bandit = [bandit() for _ in range(k)]\n",
    "print(k_bandit[0].pull())"
   ]
  },
  {
   "cell_type": "markdown",
   "metadata": {},
   "source": [
    "## Action-value Methods\n",
    "We begin by looking more closely at some simple methods for estimating the values of actions and for\n",
    "using the estimates to make action selection decisions. Recall that the true value of an action is the\n",
    "mean reward when that action is selected. One natural way to estimate this is by averaging the rewards\n",
    "2.3. THE 10-ARMED TESTBED 21\n",
    "actually received:\n",
    "$$ Qt(a).= \\frac{\\text{sum of rewards when a taken prior to t}} {\\text {number of times a taken prior to t}} $$\n",
    "$$=Pt−1i=1 Ri· 1Ai=a Pt−1i=1 1Ai=a,$$"
   ]
  },
  {
   "cell_type": "code",
   "execution_count": 6,
   "metadata": {},
   "outputs": [],
   "source": [
    "runs = 2_000\n",
    "steps = 1_000"
   ]
  },
  {
   "cell_type": "code",
   "execution_count": 7,
   "metadata": {},
   "outputs": [],
   "source": [
    "def ten_armed_testbed(k = 10, runs = 2_000, steps = 1_000, epsilon = 0.0 ):\n",
    "    \n",
    "    R_average = np.zeros((steps,))\n",
    "    for _ in range(runs):\n",
    "        #new problem\n",
    "        k_bandit = [bandit() for _ in range(k)]  \n",
    "        ## epsilon = .1\n",
    "        Q = np.zeros((k,))                  #estimated value of action a \n",
    "        R = np.zeros((k,))                  #sum of rewards when a taken prior to t\n",
    "        a_n = np.zeros((k,))                #number of times a is taken prior to t\n",
    "        r_t = 0\n",
    "        for t in range(steps):\n",
    "            #epsilon less then .1 do random action\n",
    "            if np.random.uniform(0,1,1) <= epsilon:\n",
    "                A = np.random.randint(10,size=1)[0]\n",
    "            else: \n",
    "                A = np.argmax(Q)              #action\n",
    "                \n",
    "            r_t = k_bandit[A].pull()          #rewart at time t from action A\n",
    "            R_average[t] += r_t\n",
    "            R[A] += r_t                       #sum of rewards when a taken prior to t\n",
    "            a_n[A] +=1 \n",
    "            Q[A] = R[A] / a_n[A]              #update action value \n",
    "\n",
    "    return R_average/(runs)"
   ]
  },
  {
   "cell_type": "code",
   "execution_count": 42,
   "metadata": {},
   "outputs": [],
   "source": [
    "R_greedy =  ten_armed_testbed(runs = runs,steps = steps, epsilon = 0.0 )"
   ]
  },
  {
   "cell_type": "markdown",
   "metadata": {},
   "source": [
    "### $\\epsilon-greedy$\n",
    "\n",
    "A simple alternative is to behave greedily most of the time, but every once in a while, say with small\n",
    "probability ε, instead select randomly from among all the actions with equal probability, independently\n",
    "of the action-value estimates. We call methods using this near-greedy action selection rule ε-greedy\n",
    "methods. An advantage of these methods is that, in the limit as the number of steps increases, every\n",
    "action will be sampled an infinite number of times, thus ensuring that all the Qt(a) converge to q∗(a).\n",
    "This of course implies that the probability of selecting the optimal action converges to greater than\n",
    "1 − ε, that is, to near certainty. These are just asymptotic guarantees, however, and say little about\n",
    "the practical effectiveness of the methods.\n"
   ]
  },
  {
   "cell_type": "code",
   "execution_count": 43,
   "metadata": {},
   "outputs": [],
   "source": [
    "R_1  = ten_armed_testbed(runs = runs,steps = steps, epsilon = 0.1 )\n",
    "R_01 = ten_armed_testbed(runs = runs,steps = steps, epsilon = 0.01)"
   ]
  },
  {
   "cell_type": "code",
   "execution_count": 44,
   "metadata": {},
   "outputs": [
    {
     "data": {
      "image/png": "[encoded data removed]",
      "text/plain": [
       "<Figure size 432x288 with 1 Axes>"
      ]
     },
     "metadata": {
      "needs_background": "light"
     },
     "output_type": "display_data"
    }
   ],
   "source": [
    "x = range(steps)\n",
    "plt.plot(x, R_greedy, color='green')\n",
    "plt.plot(x, R_1, color='blue')\n",
    "plt.plot(x, R_01, color='red')\n",
    "plt.show()"
   ]
  },
  {
   "cell_type": "markdown",
   "metadata": {},
   "source": [
    "### Icremental Implementation\n",
    "![alt text](simple_bandit_algorimthm.PNG \"Simple Bandit Algorimthm\")\n"
   ]
  },
  {
   "cell_type": "code",
   "execution_count": 26,
   "metadata": {},
   "outputs": [],
   "source": [
    "def Incremental_testbed(k = 10, runs = 2_000,steps = 1_000, epsilon = 0.0 ):\n",
    "    \n",
    "    R_average = np.zeros((steps,))\n",
    "    for _ in range(runs):\n",
    "        #new random K_bandit problem\n",
    "        k_bandit = [bandit() for _ in range(k)]  \n",
    "        Q = np.zeros((k,))                    #estimated value of action a   \n",
    "        N = np.zeros((k,))                    #number of times a is taken prior to t\n",
    "        r_t = 0\n",
    "        for t in range(steps):\n",
    "            #epsilon less then .1 do random action\n",
    "            if np.random.uniform(0,1,1) <= epsilon:\n",
    "                A = np.random.randint(10,size=1)[0]\n",
    "            else: \n",
    "                A = np.argmax(Q)              #action\n",
    "                \n",
    "            R = k_bandit[A].pull()          #rewart at time t from action A\n",
    "            R_average[t] += R\n",
    "            N[A] = N[A] +1 \n",
    "            Q[A] =  Q[A] + (1.0/ N[A])*(R - Q[A])              #update action value \n",
    "\n",
    "    return R_average/(runs)\n"
   ]
  },
  {
   "cell_type": "code",
   "execution_count": 27,
   "metadata": {},
   "outputs": [
    {
     "ename": "TypeError",
     "evalue": "'numpy.float64' object is not callable",
     "output_type": "error",
     "traceback": [
      "\u001b[1;31m---------------------------------------------------------------------------\u001b[0m",
      "\u001b[1;31mTypeError\u001b[0m                                 Traceback (most recent call last)",
      "\u001b[1;32m<ipython-input-27-102ed168b6a3>\u001b[0m in \u001b[0;36m<module>\u001b[1;34m\u001b[0m\n\u001b[1;32m----> 1\u001b[1;33m \u001b[0mR_greedy\u001b[0m \u001b[1;33m=\u001b[0m  \u001b[0mIncremental_testbed\u001b[0m\u001b[1;33m(\u001b[0m\u001b[0mruns\u001b[0m \u001b[1;33m=\u001b[0m \u001b[0mruns\u001b[0m\u001b[1;33m,\u001b[0m\u001b[0msteps\u001b[0m \u001b[1;33m=\u001b[0m \u001b[0msteps\u001b[0m\u001b[1;33m,\u001b[0m \u001b[0mepsilon\u001b[0m \u001b[1;33m=\u001b[0m \u001b[1;36m0.0\u001b[0m \u001b[1;33m)\u001b[0m\u001b[1;33m\u001b[0m\u001b[1;33m\u001b[0m\u001b[0m\n\u001b[0m\u001b[0;32m      2\u001b[0m \u001b[0mR_1\u001b[0m  \u001b[1;33m=\u001b[0m \u001b[0mIncremental_testbed\u001b[0m\u001b[1;33m(\u001b[0m\u001b[0mruns\u001b[0m \u001b[1;33m=\u001b[0m \u001b[0mruns\u001b[0m\u001b[1;33m,\u001b[0m\u001b[0msteps\u001b[0m \u001b[1;33m=\u001b[0m \u001b[0msteps\u001b[0m\u001b[1;33m,\u001b[0m \u001b[0mepsilon\u001b[0m \u001b[1;33m=\u001b[0m \u001b[1;36m0.1\u001b[0m \u001b[1;33m)\u001b[0m\u001b[1;33m\u001b[0m\u001b[1;33m\u001b[0m\u001b[0m\n\u001b[0;32m      3\u001b[0m \u001b[0mR_01\u001b[0m \u001b[1;33m=\u001b[0m \u001b[0mIncremental_testbed\u001b[0m\u001b[1;33m(\u001b[0m\u001b[0mruns\u001b[0m \u001b[1;33m=\u001b[0m \u001b[0mruns\u001b[0m\u001b[1;33m,\u001b[0m\u001b[0msteps\u001b[0m \u001b[1;33m=\u001b[0m \u001b[0msteps\u001b[0m\u001b[1;33m,\u001b[0m \u001b[0mepsilon\u001b[0m \u001b[1;33m=\u001b[0m \u001b[1;36m0.01\u001b[0m\u001b[1;33m)\u001b[0m\u001b[1;33m\u001b[0m\u001b[1;33m\u001b[0m\u001b[0m\n\u001b[0;32m      4\u001b[0m \u001b[0mx\u001b[0m \u001b[1;33m=\u001b[0m \u001b[0mrange\u001b[0m\u001b[1;33m(\u001b[0m\u001b[0msteps\u001b[0m\u001b[1;33m)\u001b[0m\u001b[1;33m\u001b[0m\u001b[1;33m\u001b[0m\u001b[0m\n\u001b[0;32m      5\u001b[0m \u001b[0mplt\u001b[0m\u001b[1;33m.\u001b[0m\u001b[0mplot\u001b[0m\u001b[1;33m(\u001b[0m\u001b[0mx\u001b[0m\u001b[1;33m,\u001b[0m \u001b[0mR_greedy\u001b[0m\u001b[1;33m,\u001b[0m \u001b[0mcolor\u001b[0m\u001b[1;33m=\u001b[0m\u001b[1;34m'green'\u001b[0m\u001b[1;33m)\u001b[0m\u001b[1;33m\u001b[0m\u001b[1;33m\u001b[0m\u001b[0m\n",
      "\u001b[1;32m<ipython-input-26-0675b38a750d>\u001b[0m in \u001b[0;36mIncremental_testbed\u001b[1;34m(k, runs, steps, epsilon)\u001b[0m\n\u001b[0;32m     18\u001b[0m             \u001b[0mR_average\u001b[0m\u001b[1;33m[\u001b[0m\u001b[0mt\u001b[0m\u001b[1;33m]\u001b[0m \u001b[1;33m+=\u001b[0m \u001b[0mR\u001b[0m\u001b[1;33m\u001b[0m\u001b[1;33m\u001b[0m\u001b[0m\n\u001b[0;32m     19\u001b[0m             \u001b[0mN\u001b[0m\u001b[1;33m[\u001b[0m\u001b[0mA\u001b[0m\u001b[1;33m]\u001b[0m \u001b[1;33m=\u001b[0m \u001b[0mN\u001b[0m\u001b[1;33m[\u001b[0m\u001b[0mA\u001b[0m\u001b[1;33m]\u001b[0m \u001b[1;33m+\u001b[0m\u001b[1;36m1\u001b[0m\u001b[1;33m\u001b[0m\u001b[1;33m\u001b[0m\u001b[0m\n\u001b[1;32m---> 20\u001b[1;33m             \u001b[0mprint\u001b[0m\u001b[1;33m(\u001b[0m \u001b[1;33m(\u001b[0m\u001b[1;36m1.0\u001b[0m\u001b[1;33m/\u001b[0m \u001b[0mN\u001b[0m\u001b[1;33m[\u001b[0m\u001b[0mA\u001b[0m\u001b[1;33m]\u001b[0m\u001b[1;33m)\u001b[0m\u001b[1;33m(\u001b[0m\u001b[0mR\u001b[0m \u001b[1;33m-\u001b[0m \u001b[0mQ\u001b[0m\u001b[1;33m[\u001b[0m\u001b[0mA\u001b[0m\u001b[1;33m]\u001b[0m\u001b[1;33m)\u001b[0m\u001b[1;33m)\u001b[0m\u001b[1;33m\u001b[0m\u001b[1;33m\u001b[0m\u001b[0m\n\u001b[0m\u001b[0;32m     21\u001b[0m             \u001b[0mQ\u001b[0m\u001b[1;33m[\u001b[0m\u001b[0mA\u001b[0m\u001b[1;33m]\u001b[0m \u001b[1;33m=\u001b[0m  \u001b[0mQ\u001b[0m\u001b[1;33m[\u001b[0m\u001b[0mA\u001b[0m\u001b[1;33m]\u001b[0m \u001b[1;33m+\u001b[0m \u001b[1;33m(\u001b[0m\u001b[1;36m1.0\u001b[0m\u001b[1;33m/\u001b[0m \u001b[0mN\u001b[0m\u001b[1;33m[\u001b[0m\u001b[0mA\u001b[0m\u001b[1;33m]\u001b[0m\u001b[1;33m)\u001b[0m\u001b[1;33m(\u001b[0m\u001b[0mR\u001b[0m \u001b[1;33m-\u001b[0m \u001b[0mQ\u001b[0m\u001b[1;33m[\u001b[0m\u001b[0mA\u001b[0m\u001b[1;33m]\u001b[0m\u001b[1;33m)\u001b[0m              \u001b[1;31m#update action value\u001b[0m\u001b[1;33m\u001b[0m\u001b[1;33m\u001b[0m\u001b[0m\n\u001b[0;32m     22\u001b[0m \u001b[1;33m\u001b[0m\u001b[0m\n",
      "\u001b[1;31mTypeError\u001b[0m: 'numpy.float64' object is not callable"
     ]
    }
   ],
   "source": [
    "R_greedy =  Incremental_testbed(runs = runs,steps = steps, epsilon = 0.0 )\n",
    "R_1  = Incremental_testbed(runs = runs,steps = steps, epsilon = 0.1 )\n",
    "R_01 = Incremental_testbed(runs = runs,steps = steps, epsilon = 0.01)\n",
    "x = range(steps)\n",
    "plt.plot(x, R_greedy, color='green')\n",
    "plt.plot(x, R_1, color='blue')\n",
    "plt.plot(x, R_01, color='red')\n",
    "plt.show()"
   ]
  },
  {
   "cell_type": "code",
   "execution_count": null,
   "metadata": {},
   "outputs": [],
   "source": []
  }
 ],
 "metadata": {
  "kernelspec": {
   "display_name": "tf2",
   "language": "python",
   "name": "tf2"
  },
  "language_info": {
   "codemirror_mode": {
    "name": "ipython",
    "version": 3
   },
   "file_extension": ".py",
   "mimetype": "text/x-python",
   "name": "python",
   "nbconvert_exporter": "python",
   "pygments_lexer": "ipython3",
   "version": "3.7.5"
  }
 },
 "nbformat": 4,
 "nbformat_minor": 2
}
